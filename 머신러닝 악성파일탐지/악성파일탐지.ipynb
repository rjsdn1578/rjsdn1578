{
  "nbformat": 4,
  "nbformat_minor": 0,
  "metadata": {
    "colab": {
      "name": "건우_확인_.ipynb",
      "provenance": [],
      "collapsed_sections": []
    },
    "kernelspec": {
      "display_name": "Python 3",
      "name": "python3"
    },
    "language_info": {
      "name": "python"
    }
  },
  "cells": [
    {
      "cell_type": "code",
      "source": [
        "# 구글 드라이브 로드\n",
        "from google.colab import drive\n",
        "drive.mount('/content/drive')"
      ],
      "metadata": {
        "colab": {
          "base_uri": "https://localhost:8080/"
        },
        "id": "ZCk7mc9AemB7",
        "outputId": "7f2b8275-8e10-4301-c6a9-de1d1a409f79"
      },
      "execution_count": null,
      "outputs": [
        {
          "output_type": "stream",
          "name": "stdout",
          "text": [
            "Drive already mounted at /content/drive; to attempt to forcibly remount, call drive.mount(\"/content/drive\", force_remount=True).\n"
          ]
        }
      ]
    },
    {
      "cell_type": "code",
      "metadata": {
        "colab": {
          "base_uri": "https://localhost:8080/",
          "height": 473
        },
        "id": "f4EqgwNVPtD2",
        "outputId": "4cf94e22-f377-432f-8c0d-39e311138c1e"
      },
      "source": [
        "import numpy as np\n",
        "import csv\n",
        "import seaborn as sns\n",
        "import matplotlib.pyplot as plt\n",
        "from collections import Counter\n",
        "import pandas as pd\n",
        "from sklearn import datasets\n",
        "\n",
        "# train에 학습시킬데이터를 가져옴\n",
        "#'CryptCreateHash', 'OpenSCManagerW', 'CoInitializeSecurity', 'NtQueryAttributesFile', 'NetUserGetLocalGroups', 'NtCreateSection', 'NtAllocateVirtualMemory', 'RegOpenKeyExA', 'CoCreateInstance', 'GetForegroundWindow', 'UuidCreate', 'ShellExecuteExW', 'NtCreateMutant', 'CryptHashData', 'GetVolumeNameForVolumeMountPointW', 'FindResourceA', 'SHGetSpecialFolderLocation', 'CryptEncrypt', 'RegCreateKeyExA', 'GetFileSize', 'RegEnumValueW', 'NtOpenMutant', 'timeGetTime', 'GetSystemWindowsDirectoryW', 'RegSetValueExW', 'NtSetContextThread', 'NtCreateThreadEx', 'RegQueryValueExW', 'NtQueueApcThread', 'FindResourceExW', 'RegQueryInfoKeyA', 'NtQuerySystemInformation', 'GetFileAttributesExW', 'NtEnumerateValueKey', 'GetFileVersionInfoW', 'GetSystemInfo', 'FindFirstFileExW', 'RegQueryValueExA', 'CoUninitialize', 'CryptAcquireContextW', 'RegEnumKeyW', 'NtQueryInformationFile', 'RegEnumKeyExA', 'LoadResource', 'NtDelayExecution', 'NtSetValueKey', 'FindResourceW', 'RegQueryInfoKeyW', 'SHGetFolderPathW', 'NtFreeVirtualMemory', 'LdrUnloadDll', 'LoadStringW', 'DeleteFileW', 'OleInitialize', 'GetUserNameW', 'NtOpenSection', 'LookupAccountSidW', 'NtCreateFile', 'GetTimeZoneInformation', 'NtQueryKey', 'OutputDebugStringA', 'GetFileVersionInfoExW', 'GetSystemTimeAsFileTime', 'GetSystemDirectoryW', 'NtUnmapViewOfSection', 'CreateProcessInternalW', 'SizeofResource', 'RegOpenKeyExW', 'NtResumeThread', 'NtOpenKey', 'DrawTextExW', 'NtReadFile', 'RtlAddVectoredContinueHandler', 'NtDuplicateObject', 'SetErrorMode', 'LookupPrivilegeValueW', 'NtSuspendThread', 'GetVolumePathNamesForVolumeNameW', 'NtMapViewOfSection', 'CryptExportKey', 'NtOpenProcess', 'MessageBoxTimeoutW', 'SearchPathW', 'NtTerminateProcess', 'GetUserNameExW', 'GetSystemMetrics', 'NetUserGetInfo', 'NtWriteFile', 'NtClose', 'GetFileInformationByHandleEx', 'GetFileVersionInfoSizeW', 'LdrLoadDll', 'NtQueryDirectoryFile', 'NtQueryValueKey', 'GetFileSizeEx', 'NtProtectVirtualMemory', 'OpenServiceW', 'CryptDecrypt', 'NtOpenThread', 'NtOpenKeyEx', 'RegEnumKeyExW', 'CoGetClassObject', 'GetKeyboardState', 'GetKeyState', 'IsDebuggerPresent', 'GetCursorPos', 'NtEnumerateKey', 'CreateThread', 'CoInitializeEx', 'NtDeviceIoControlFile', 'GetFileVersionInfoSizeExW', 'RegDeleteValueW', 'GetFileAttributesW', 'GlobalMemoryStatus', 'LdrGetDllHandle', 'RegCreateKeyExW', 'FindWindowW', 'GetNativeSystemInfo', 'RegCloseKey', 'CreateDirectoryW', 'GlobalMemoryStatusEx', 'DeviceIoControl', 'CryptAcquireContextA', 'SetEndOfFile', 'NtOpenFile', 'GetFileType', 'CreateActCtxW', 'SetUnhandledExceptionFilter', '__exception__', 'NtGetContextThread', 'SetFilePointer', 'LdrGetProcedureAddress', 'GetFileInformationByHandle'\n",
        "train = pd.read_csv('/content/drive/MyDrive/AI기반 파워쉘 악성코드/merge(11.26)_train.csv', names=['uuid','CryptCreateHash', 'OpenSCManagerW', 'CoInitializeSecurity', 'NtQueryAttributesFile', 'NetUserGetLocalGroups', 'NtCreateSection', 'NtAllocateVirtualMemory', 'RegOpenKeyExA', 'CoCreateInstance', 'GetForegroundWindow', 'UuidCreate', 'ShellExecuteExW', 'NtCreateMutant', 'CryptHashData', 'GetVolumeNameForVolumeMountPointW', 'FindResourceA', 'SHGetSpecialFolderLocation', 'CryptEncrypt', 'RegCreateKeyExA', 'GetFileSize', 'RegEnumValueW', 'NtOpenMutant', 'timeGetTime', 'GetSystemWindowsDirectoryW', 'RegSetValueExW', 'NtSetContextThread', 'NtCreateThreadEx', 'RegQueryValueExW', 'NtQueueApcThread', 'FindResourceExW', 'RegQueryInfoKeyA', 'NtQuerySystemInformation', 'GetFileAttributesExW', 'NtEnumerateValueKey', 'GetFileVersionInfoW', 'GetSystemInfo', 'FindFirstFileExW', 'RegQueryValueExA', 'CoUninitialize', 'CryptAcquireContextW', 'RegEnumKeyW', 'NtQueryInformationFile', 'RegEnumKeyExA', 'LoadResource', 'NtDelayExecution', 'NtSetValueKey', 'FindResourceW', 'RegQueryInfoKeyW', 'SHGetFolderPathW', 'NtFreeVirtualMemory', 'LdrUnloadDll', 'LoadStringW', 'DeleteFileW', 'OleInitialize', 'GetUserNameW', 'NtOpenSection', 'LookupAccountSidW', 'NtCreateFile', 'GetTimeZoneInformation', 'NtQueryKey', 'OutputDebugStringA', 'GetFileVersionInfoExW', 'GetSystemTimeAsFileTime', 'GetSystemDirectoryW', 'NtUnmapViewOfSection', 'CreateProcessInternalW', 'SizeofResource', 'RegOpenKeyExW', 'NtResumeThread', 'NtOpenKey', 'DrawTextExW', 'NtReadFile', 'RtlAddVectoredContinueHandler', 'NtDuplicateObject', 'SetErrorMode', 'LookupPrivilegeValueW', 'NtSuspendThread', 'GetVolumePathNamesForVolumeNameW', 'NtMapViewOfSection', 'CryptExportKey', 'NtOpenProcess', 'MessageBoxTimeoutW', 'SearchPathW', 'NtTerminateProcess', 'GetUserNameExW', 'GetSystemMetrics', 'NetUserGetInfo', 'NtWriteFile', 'NtClose', 'GetFileInformationByHandleEx', 'GetFileVersionInfoSizeW', 'LdrLoadDll', 'NtQueryDirectoryFile', 'NtQueryValueKey', 'GetFileSizeEx', 'NtProtectVirtualMemory', 'OpenServiceW', 'CryptDecrypt', 'NtOpenThread', 'NtOpenKeyEx', 'RegEnumKeyExW', 'CoGetClassObject', 'GetKeyboardState', 'GetKeyState', 'IsDebuggerPresent', 'GetCursorPos', 'NtEnumerateKey', 'CreateThread', 'CoInitializeEx', 'NtDeviceIoControlFile', 'GetFileVersionInfoSizeExW', 'RegDeleteValueW', 'GetFileAttributesW', 'GlobalMemoryStatus', 'LdrGetDllHandle', 'RegCreateKeyExW', 'FindWindowW', 'GetNativeSystemInfo', 'RegCloseKey', 'CreateDirectoryW', 'GlobalMemoryStatusEx', 'DeviceIoControl', 'CryptAcquireContextA', 'SetEndOfFile', 'NtOpenFile', 'GetFileType', 'CreateActCtxW', 'SetUnhandledExceptionFilter', '__exception__', 'NtGetContextThread', 'SetFilePointer', 'LdrGetProcedureAddress', 'GetFileInformationByHandle','ad_no'])\n",
        "#train = pd.read_csv('/content/sample_data/merge(11.26)_train.csv', names=['uuid','b','c','d','e','f','g','h','i','j','k','l','m','n','o','p','q','r','s','t','u','v','w','x','y','z','aa','ab','ac','ad','ae','af','ag','ah','ai','aj','ak','al','am','an','ao','ap','aq','ar','as','at','au','av','aw','ax','ay','az','ba','bb','bc','bd','be','bf','bg','bh','bi','bj','bk','bl','bm','bn','bo','bp','bq','br','bs','bt','bu','bv','bw','bx','by','bz','ca','cb','cc','cd','ce','cf','cg','ch','ci','cj','ck','cl','cm','cn','co','cp','cq','cr','cs','ct','cu','cv','cw','cx','cy','cz','da','db','dc','dd','de','df','dg','dh','di','dj','dk','dl','dm','dn','do','dp','dq','dr','ds','dt','du','dv','dw','dx','dy','dz','ea','eb','ec','ed','ad_no'])\n",
        "\n",
        "# train을 확인함\n",
        "train.head(5)"
      ],
      "execution_count": null,
      "outputs": [
        {
          "output_type": "execute_result",
          "data": {
            "text/plain": [
              "                                        uuid  CryptCreateHash  OpenSCManagerW  \\\n",
              "0  003932f0-bcf1-4e6a-9f08-cf036ff801d9.json              555               2   \n",
              "1  040fa6b0-9c66-4803-b9cb-9d44068257d6.json              555               2   \n",
              "2  06b0006e-20b9-482b-8906-de199b8155d3.json              555               2   \n",
              "3  09f6e44c-bbf9-4651-b8e8-fe129ba16a7e.json              555               2   \n",
              "4  0c028990-4037-4e36-b1d2-c890dbf81860.json              555               2   \n",
              "\n",
              "   CoInitializeSecurity  NtQueryAttributesFile  NetUserGetLocalGroups  \\\n",
              "0                     1                     70                      1   \n",
              "1                     1                     70                      1   \n",
              "2                     1                     70                      1   \n",
              "3                     1                     70                      1   \n",
              "4                     1                     70                      1   \n",
              "\n",
              "   NtCreateSection  NtAllocateVirtualMemory  RegOpenKeyExA  CoCreateInstance  \\\n",
              "0              166                      964             95                36   \n",
              "1              166                      969             95                36   \n",
              "2              166                     1028             95                36   \n",
              "3              166                      953             95                36   \n",
              "4              166                      975             95                36   \n",
              "\n",
              "   ...  NtOpenFile  GetFileType  CreateActCtxW  SetUnhandledExceptionFilter  \\\n",
              "0  ...          14            2              9                            3   \n",
              "1  ...          14            2              9                            3   \n",
              "2  ...          14            2              9                            3   \n",
              "3  ...          14            2              9                            3   \n",
              "4  ...          14            2              9                            3   \n",
              "\n",
              "   __exception__  NtGetContextThread  SetFilePointer  LdrGetProcedureAddress  \\\n",
              "0              0                   0             368                    1169   \n",
              "1              0                   2             368                    1169   \n",
              "2              0                   2             368                    1169   \n",
              "3              0                   2             368                    1179   \n",
              "4              0                   2             368                    1169   \n",
              "\n",
              "   GetFileInformationByHandle  ad_no  \n",
              "0                           8      1  \n",
              "1                           8      0  \n",
              "2                           8      0  \n",
              "3                           8      0  \n",
              "4                           8      0  \n",
              "\n",
              "[5 rows x 135 columns]"
            ],
            "text/html": [
              "\n",
              "  <div id=\"df-508a547e-9aa6-4092-a2af-f3d601562d51\">\n",
              "    <div class=\"colab-df-container\">\n",
              "      <div>\n",
              "<style scoped>\n",
              "    .dataframe tbody tr th:only-of-type {\n",
              "        vertical-align: middle;\n",
              "    }\n",
              "\n",
              "    .dataframe tbody tr th {\n",
              "        vertical-align: top;\n",
              "    }\n",
              "\n",
              "    .dataframe thead th {\n",
              "        text-align: right;\n",
              "    }\n",
              "</style>\n",
              "<table border=\"1\" class=\"dataframe\">\n",
              "  <thead>\n",
              "    <tr style=\"text-align: right;\">\n",
              "      <th></th>\n",
              "      <th>uuid</th>\n",
              "      <th>CryptCreateHash</th>\n",
              "      <th>OpenSCManagerW</th>\n",
              "      <th>CoInitializeSecurity</th>\n",
              "      <th>NtQueryAttributesFile</th>\n",
              "      <th>NetUserGetLocalGroups</th>\n",
              "      <th>NtCreateSection</th>\n",
              "      <th>NtAllocateVirtualMemory</th>\n",
              "      <th>RegOpenKeyExA</th>\n",
              "      <th>CoCreateInstance</th>\n",
              "      <th>...</th>\n",
              "      <th>NtOpenFile</th>\n",
              "      <th>GetFileType</th>\n",
              "      <th>CreateActCtxW</th>\n",
              "      <th>SetUnhandledExceptionFilter</th>\n",
              "      <th>__exception__</th>\n",
              "      <th>NtGetContextThread</th>\n",
              "      <th>SetFilePointer</th>\n",
              "      <th>LdrGetProcedureAddress</th>\n",
              "      <th>GetFileInformationByHandle</th>\n",
              "      <th>ad_no</th>\n",
              "    </tr>\n",
              "  </thead>\n",
              "  <tbody>\n",
              "    <tr>\n",
              "      <th>0</th>\n",
              "      <td>003932f0-bcf1-4e6a-9f08-cf036ff801d9.json</td>\n",
              "      <td>555</td>\n",
              "      <td>2</td>\n",
              "      <td>1</td>\n",
              "      <td>70</td>\n",
              "      <td>1</td>\n",
              "      <td>166</td>\n",
              "      <td>964</td>\n",
              "      <td>95</td>\n",
              "      <td>36</td>\n",
              "      <td>...</td>\n",
              "      <td>14</td>\n",
              "      <td>2</td>\n",
              "      <td>9</td>\n",
              "      <td>3</td>\n",
              "      <td>0</td>\n",
              "      <td>0</td>\n",
              "      <td>368</td>\n",
              "      <td>1169</td>\n",
              "      <td>8</td>\n",
              "      <td>1</td>\n",
              "    </tr>\n",
              "    <tr>\n",
              "      <th>1</th>\n",
              "      <td>040fa6b0-9c66-4803-b9cb-9d44068257d6.json</td>\n",
              "      <td>555</td>\n",
              "      <td>2</td>\n",
              "      <td>1</td>\n",
              "      <td>70</td>\n",
              "      <td>1</td>\n",
              "      <td>166</td>\n",
              "      <td>969</td>\n",
              "      <td>95</td>\n",
              "      <td>36</td>\n",
              "      <td>...</td>\n",
              "      <td>14</td>\n",
              "      <td>2</td>\n",
              "      <td>9</td>\n",
              "      <td>3</td>\n",
              "      <td>0</td>\n",
              "      <td>2</td>\n",
              "      <td>368</td>\n",
              "      <td>1169</td>\n",
              "      <td>8</td>\n",
              "      <td>0</td>\n",
              "    </tr>\n",
              "    <tr>\n",
              "      <th>2</th>\n",
              "      <td>06b0006e-20b9-482b-8906-de199b8155d3.json</td>\n",
              "      <td>555</td>\n",
              "      <td>2</td>\n",
              "      <td>1</td>\n",
              "      <td>70</td>\n",
              "      <td>1</td>\n",
              "      <td>166</td>\n",
              "      <td>1028</td>\n",
              "      <td>95</td>\n",
              "      <td>36</td>\n",
              "      <td>...</td>\n",
              "      <td>14</td>\n",
              "      <td>2</td>\n",
              "      <td>9</td>\n",
              "      <td>3</td>\n",
              "      <td>0</td>\n",
              "      <td>2</td>\n",
              "      <td>368</td>\n",
              "      <td>1169</td>\n",
              "      <td>8</td>\n",
              "      <td>0</td>\n",
              "    </tr>\n",
              "    <tr>\n",
              "      <th>3</th>\n",
              "      <td>09f6e44c-bbf9-4651-b8e8-fe129ba16a7e.json</td>\n",
              "      <td>555</td>\n",
              "      <td>2</td>\n",
              "      <td>1</td>\n",
              "      <td>70</td>\n",
              "      <td>1</td>\n",
              "      <td>166</td>\n",
              "      <td>953</td>\n",
              "      <td>95</td>\n",
              "      <td>36</td>\n",
              "      <td>...</td>\n",
              "      <td>14</td>\n",
              "      <td>2</td>\n",
              "      <td>9</td>\n",
              "      <td>3</td>\n",
              "      <td>0</td>\n",
              "      <td>2</td>\n",
              "      <td>368</td>\n",
              "      <td>1179</td>\n",
              "      <td>8</td>\n",
              "      <td>0</td>\n",
              "    </tr>\n",
              "    <tr>\n",
              "      <th>4</th>\n",
              "      <td>0c028990-4037-4e36-b1d2-c890dbf81860.json</td>\n",
              "      <td>555</td>\n",
              "      <td>2</td>\n",
              "      <td>1</td>\n",
              "      <td>70</td>\n",
              "      <td>1</td>\n",
              "      <td>166</td>\n",
              "      <td>975</td>\n",
              "      <td>95</td>\n",
              "      <td>36</td>\n",
              "      <td>...</td>\n",
              "      <td>14</td>\n",
              "      <td>2</td>\n",
              "      <td>9</td>\n",
              "      <td>3</td>\n",
              "      <td>0</td>\n",
              "      <td>2</td>\n",
              "      <td>368</td>\n",
              "      <td>1169</td>\n",
              "      <td>8</td>\n",
              "      <td>0</td>\n",
              "    </tr>\n",
              "  </tbody>\n",
              "</table>\n",
              "<p>5 rows × 135 columns</p>\n",
              "</div>\n",
              "      <button class=\"colab-df-convert\" onclick=\"convertToInteractive('df-508a547e-9aa6-4092-a2af-f3d601562d51')\"\n",
              "              title=\"Convert this dataframe to an interactive table.\"\n",
              "              style=\"display:none;\">\n",
              "        \n",
              "  <svg xmlns=\"http://www.w3.org/2000/svg\" height=\"24px\"viewBox=\"0 0 24 24\"\n",
              "       width=\"24px\">\n",
              "    <path d=\"M0 0h24v24H0V0z\" fill=\"none\"/>\n",
              "    <path d=\"M18.56 5.44l.94 2.06.94-2.06 2.06-.94-2.06-.94-.94-2.06-.94 2.06-2.06.94zm-11 1L8.5 8.5l.94-2.06 2.06-.94-2.06-.94L8.5 2.5l-.94 2.06-2.06.94zm10 10l.94 2.06.94-2.06 2.06-.94-2.06-.94-.94-2.06-.94 2.06-2.06.94z\"/><path d=\"M17.41 7.96l-1.37-1.37c-.4-.4-.92-.59-1.43-.59-.52 0-1.04.2-1.43.59L10.3 9.45l-7.72 7.72c-.78.78-.78 2.05 0 2.83L4 21.41c.39.39.9.59 1.41.59.51 0 1.02-.2 1.41-.59l7.78-7.78 2.81-2.81c.8-.78.8-2.07 0-2.86zM5.41 20L4 18.59l7.72-7.72 1.47 1.35L5.41 20z\"/>\n",
              "  </svg>\n",
              "      </button>\n",
              "      \n",
              "  <style>\n",
              "    .colab-df-container {\n",
              "      display:flex;\n",
              "      flex-wrap:wrap;\n",
              "      gap: 12px;\n",
              "    }\n",
              "\n",
              "    .colab-df-convert {\n",
              "      background-color: #E8F0FE;\n",
              "      border: none;\n",
              "      border-radius: 50%;\n",
              "      cursor: pointer;\n",
              "      display: none;\n",
              "      fill: #1967D2;\n",
              "      height: 32px;\n",
              "      padding: 0 0 0 0;\n",
              "      width: 32px;\n",
              "    }\n",
              "\n",
              "    .colab-df-convert:hover {\n",
              "      background-color: #E2EBFA;\n",
              "      box-shadow: 0px 1px 2px rgba(60, 64, 67, 0.3), 0px 1px 3px 1px rgba(60, 64, 67, 0.15);\n",
              "      fill: #174EA6;\n",
              "    }\n",
              "\n",
              "    [theme=dark] .colab-df-convert {\n",
              "      background-color: #3B4455;\n",
              "      fill: #D2E3FC;\n",
              "    }\n",
              "\n",
              "    [theme=dark] .colab-df-convert:hover {\n",
              "      background-color: #434B5C;\n",
              "      box-shadow: 0px 1px 3px 1px rgba(0, 0, 0, 0.15);\n",
              "      filter: drop-shadow(0px 1px 2px rgba(0, 0, 0, 0.3));\n",
              "      fill: #FFFFFF;\n",
              "    }\n",
              "  </style>\n",
              "\n",
              "      <script>\n",
              "        const buttonEl =\n",
              "          document.querySelector('#df-508a547e-9aa6-4092-a2af-f3d601562d51 button.colab-df-convert');\n",
              "        buttonEl.style.display =\n",
              "          google.colab.kernel.accessAllowed ? 'block' : 'none';\n",
              "\n",
              "        async function convertToInteractive(key) {\n",
              "          const element = document.querySelector('#df-508a547e-9aa6-4092-a2af-f3d601562d51');\n",
              "          const dataTable =\n",
              "            await google.colab.kernel.invokeFunction('convertToInteractive',\n",
              "                                                     [key], {});\n",
              "          if (!dataTable) return;\n",
              "\n",
              "          const docLinkHtml = 'Like what you see? Visit the ' +\n",
              "            '<a target=\"_blank\" href=https://colab.research.google.com/notebooks/data_table.ipynb>data table notebook</a>'\n",
              "            + ' to learn more about interactive tables.';\n",
              "          element.innerHTML = '';\n",
              "          dataTable['output_type'] = 'display_data';\n",
              "          await google.colab.output.renderOutput(dataTable, element);\n",
              "          const docLink = document.createElement('div');\n",
              "          docLink.innerHTML = docLinkHtml;\n",
              "          element.appendChild(docLink);\n",
              "        }\n",
              "      </script>\n",
              "    </div>\n",
              "  </div>\n",
              "  "
            ]
          },
          "metadata": {},
          "execution_count": 325
        }
      ]
    },
    {
      "cell_type": "code",
      "metadata": {
        "colab": {
          "base_uri": "https://localhost:8080/"
        },
        "id": "0h_R25nvP6Ys",
        "outputId": "608de653-e032-4223-c5a8-1dcc1636e2e2"
      },
      "source": [
        "print(Counter(train['ad_no']))  # counter라는 모듈을 사용해서 정상 / 악성의 갯수를 구함"
      ],
      "execution_count": null,
      "outputs": [
        {
          "output_type": "stream",
          "name": "stdout",
          "text": [
            "Counter({0: 7942, 1: 1290})\n"
          ]
        }
      ]
    },
    {
      "cell_type": "code",
      "metadata": {
        "id": "Y4lX6hbUVgrn"
      },
      "source": [
        "'CryptCreateHash', 'OpenSCManagerW', 'CoInitializeSecurity', 'NtQueryAttributesFile', 'NetUserGetLocalGroups', 'NtCreateSection', 'NtAllocateVirtualMemory', 'RegOpenKeyExA', 'CoCreateInstance', 'GetForegroundWindow', 'UuidCreate', 'ShellExecuteExW',\n",
        "'NtCreateMutant', 'CryptHashData', 'GetVolumeNameForVolumeMountPointW', 'FindResourceA', 'SHGetSpecialFolderLocation', 'CryptEncrypt', 'RegCreateKeyExA', 'GetFileSize', 'RegEnumValueW', 'NtOpenMutant', 'timeGetTime', 'GetSystemWindowsDirectoryW', \n",
        "'RegSetValueExW', 'NtSetContextThread', 'NtCreateThreadEx', 'RegQueryValueExW', 'NtQueueApcThread', 'FindResourceExW', 'RegQueryInfoKeyA', 'NtQuerySystemInformation', 'GetFileAttributesExW', 'NtEnumerateValueKey', 'GetFileVersionInfoW', \n",
        "'GetSystemInfo', 'FindFirstFileExW', 'RegQueryValueExA', 'CoUninitialize', 'CryptAcquireContextW', 'RegEnumKeyW', 'NtQueryInformationFile', 'RegEnumKeyExA', 'LoadResource', 'NtDelayExecution', 'NtSetValueKey', 'FindResourceW', 'RegQueryInfoKeyW', \n",
        "'SHGetFolderPathW', 'NtFreeVirtualMemory', 'LdrUnloadDll', 'LoadStringW', 'DeleteFileW', 'OleInitialize', 'GetUserNameW', 'NtOpenSection', 'LookupAccountSidW', 'NtCreateFile', 'GetTimeZoneInformation', 'NtQueryKey', 'OutputDebugStringA', 'GetFileVersionInfoExW',\n",
        "'GetSystemTimeAsFileTime', 'GetSystemDirectoryW', 'NtUnmapViewOfSection', 'CreateProcessInternalW', 'SizeofResource', 'RegOpenKeyExW', 'NtResumeThread', 'NtOpenKey', 'DrawTextExW', 'NtReadFile', 'RtlAddVectoredContinueHandler', 'NtDuplicateObject', 'SetErrorMode', 'LookupPrivilegeValueW', \n",
        "'NtSuspendThread', 'GetVolumePathNamesForVolumeNameW', 'NtMapViewOfSection', 'CryptExportKey', 'NtOpenProcess', 'MessageBoxTimeoutW', 'SearchPathW', 'NtTerminateProcess', 'GetUserNameExW', 'GetSystemMetrics', 'NetUserGetInfo', 'NtWriteFile', 'NtClose',\n",
        "'GetFileInformationByHandleEx', 'GetFileVersionInfoSizeW', 'LdrLoadDll', 'NtQueryDirectoryFile', 'NtQueryValueKey', 'GetFileSizeEx', 'NtProtectVirtualMemory', 'OpenServiceW', 'CryptDecrypt', 'NtOpenThread', 'NtOpenKeyEx', 'RegEnumKeyExW', 'CoGetClassObject',\n",
        "'GetKeyboardState', 'GetKeyState', 'IsDebuggerPresent', 'GetCursorPos', 'NtEnumerateKey', 'CreateThread', 'CoInitializeEx', 'NtDeviceIoControlFile', 'GetFileVersionInfoSizeExW', 'RegDeleteValueW', 'GetFileAttributesW', 'GlobalMemoryStatus', 'LdrGetDllHandle', 'RegCreateKeyExW', 'FindWindowW',\n",
        "'GetNativeSystemInfo', 'RegCloseKey', 'CreateDirectoryW', 'GlobalMemoryStatusEx', 'DeviceIoControl', 'CryptAcquireContextA', 'SetEndOfFile', 'NtOpenFile', 'GetFileType', 'CreateActCtxW', 'SetUnhandledExceptionFilter', '__exception__', 'NtGetContextThread', 'SetFilePointer', 'LdrGetProcedureAddress', 'GetFileInformationByHandle'\n",
        "train=train.drop('uuid',axis=1) # train의 uuid열을 삭제함\n",
        "train=train.drop('OpenSCManagerW',axis=1) \n",
        "train=train.drop('CoInitializeSecurity',axis=1) \n",
        "train=train.drop('NtQueryAttributesFile',axis=1) \n",
        "train=train.drop('NetUserGetLocalGroups',axis=1) \n",
        "train=train.drop('ShellExecuteExW',axis=1) \n",
        "train=train.drop('FindResourceA',axis=1) \n",
        "train=train.drop('SHGetSpecialFolderLocation',axis=1) \n",
        "train=train.drop('RegEnumValueW',axis=1) \n",
        "train=train.drop('NtOpenMutant',axis=1) \n",
        "train=train.drop('NtCreateThreadEx',axis=1) \n",
        "train=train.drop('RegQueryInfoKeyA',axis=1) \n",
        "train=train.drop('NtEnumerateValueKey',axis=1) \n",
        "train=train.drop('CoUninitialize',axis=1) \n",
        "train=train.drop('CryptAcquireContextW',axis=1) \n",
        "train=train.drop('NtQueryInformationFile',axis=1) \n",
        "train=train.drop('NtSetValueKey',axis=1) \n",
        "train=train.drop('SHGetFolderPathW',axis=1) \n",
        "train=train.drop('DeleteFileW',axis=1) \n",
        "train=train.drop('OleInitialize',axis=1) \n",
        "train=train.drop('GetFileVersionInfoExW',axis=1) \n",
        "train=train.drop('CreateProcessInternalW',axis=1) \n",
        "train=train.drop('NtReadFile',axis=1) \n",
        "train=train.drop('RtlAddVectoredContinueHandler',axis=1) \n",
        "train=train.drop('LookupPrivilegeValueW',axis=1) \n",
        "train=train.drop('GetVolumePathNamesForVolumeNameW',axis=1) \n",
        "train=train.drop('NtOpenProcess',axis=1) \n",
        "train=train.drop('MessageBoxTimeoutW',axis=1) \n",
        "train=train.drop('NtTerminateProcess',axis=1) \n",
        "train=train.drop('GetUserNameExW',axis=1) \n",
        "train=train.drop('NetUserGetInfo',axis=1) \n",
        "train=train.drop('GetFileInformationByHandleEx',axis=1) \n",
        "train=train.drop('NtQueryValueKey',axis=1) \n",
        "train=train.drop('GetFileSizeEx',axis=1) \n",
        "train=train.drop('CryptDecrypt',axis=1) \n",
        "train=train.drop('NtOpenKeyEx',axis=1) \n",
        "train=train.drop('CoGetClassObject',axis=1) \n",
        "train=train.drop('IsDebuggerPresent',axis=1) \n",
        "train=train.drop('NtEnumerateKey',axis=1) \n",
        "train=train.drop('NtDeviceIoControlFile',axis=1) \n",
        "train=train.drop('GetFileVersionInfoSizeExW',axis=1) \n",
        "train=train.drop('RegDeleteValueW',axis=1) \n",
        "train=train.drop('GlobalMemoryStatus',axis=1) \n",
        "train=train.drop('GetNativeSystemInfo',axis=1) \n",
        "train=train.drop('CreateDirectoryW',axis=1) \n",
        "train=train.drop('CryptAcquireContextA',axis=1) \n",
        "train=train.drop('NtOpenFile',axis=1) \n",
        "train=train.drop('SetUnhandledExceptionFilter',axis=1) \n",
        "train=train.drop('GetVolumeNameForVolumeMountPointW',axis=1) \n",
        "train=train.drop('GetSystemWindowsDirectoryW',axis=1) \n",
        "train=train.drop('GetUserNameW',axis=1) \n",
        "train=train.drop('SearchPathW',axis=1) \n",
        "train=train.drop('NtOpenThread',axis=1) \n",
        "train=train.drop('GetFileType',axis=1) \n",
        "train=train.drop('CreateActCtxW',axis=1) \n",
        "train=train.drop('RegCreateKeyExA',axis=1) \n",
        "train=train.drop('GetFileSize',axis=1) \n",
        "train=train.drop('RegSetValueExW',axis=1) \n",
        "train=train.drop('FindResourceExW',axis=1) \n",
        "train=train.drop('FindFirstFileExW',axis=1) \n",
        "train=train.drop('RegQueryInfoKeyW',axis=1) \n",
        "train=train.drop('LookupAccountSidW',axis=1) \n",
        "train=train.drop('GetTimeZoneInformation',axis=1) \n",
        "train=train.drop('NtQueryKey',axis=1) \n",
        "train=train.drop('OutputDebugStringA',axis=1) \n",
        "train=train.drop('NtOpenKey',axis=1) \n",
        "train=train.drop('GetFileVersionInfoSizeW',axis=1) \n",
        "train=train.drop('LdrLoadDll',axis=1) \n",
        "train=train.drop('NtOpenSection',axis=1) \n",
        "train=train.drop('NtQueryDirectoryFile',axis=1) \n",
        "train=train.drop('NtProtectVirtualMemory',axis=1) \n",
        "train=train.drop('RegEnumKeyExW',axis=1) \n",
        "train=train.drop('CoInitializeEx',axis=1) \n",
        "train=train.drop('RegCreateKeyExW',axis=1) \n",
        "train=train.drop('FindWindowW',axis=1) \n",
        "train=train.drop('NtCreateSection',axis=1) \n",
        "train=train.drop('NtQueueApcThread',axis=1) \n",
        "train=train.drop('GetFileVersionInfoW',axis=1) \n",
        "train=train.drop('NtCreateFile',axis=1) \n",
        "train=train.drop('NtUnmapViewOfSection',axis=1) \n",
        "train=train.drop('CryptExportKey',axis=1) \n",
        "train=train.drop('GetFileAttributesW',axis=1) \n",
        "train=train.drop('OpenServiceW',axis=1) \n",
        "train=train.drop('NtMapViewOfSection',axis=1) \n",
        "train=train.drop('LoadStringW',axis=1) \n",
        "train=train.drop('CryptEncrypt',axis=1) \n",
        "train=train.drop('LdrUnloadDll',axis=1) \n",
        "train=train.drop('CreateThread',axis=1) \n",
        "train=train.drop('GetFileAttributesExW',axis=1) \n",
        "train=train.drop('GetSystemDirectoryW',axis=1) \n",
        "train=train.drop('CryptHashData',axis=1) \n",
        "train=train.drop('GetFileInformationByHandle',axis=1) \n",
        "train=train.drop('SetEndOfFile',axis=1) \n",
        "train=train.drop('NtWriteFile',axis=1) \n",
        "train=train.drop('SetErrorMode',axis=1) \n",
        "train=train.drop('RegEnumKeyExA',axis=1) \n",
        "train=train.drop('RegQueryValueExA',axis=1) \n",
        "train=train.drop('UuidCreate',axis=1) \n",
        "train=train.drop('CoCreateInstance',axis=1) \n",
        "train=train.drop('RegOpenKeyExA',axis=1) \n",
        "train=train.drop('CryptCreateHash',axis=1) \n",
        "train=train.drop('SetFilePointer',axis=1) \n",
        "train=train.drop('__exception__',axis=1) \n",
        "train=train.drop('DeviceIoControl',axis=1) \n",
        "train=train.drop('GetKeyState',axis=1) \n",
        "train=train.drop('FindResourceW',axis=1) \n",
        "train=train.drop('LoadResource',axis=1) \n",
        "train=train.drop('RegQueryValueExW',axis=1) \n",
        "train=train.drop('NtSetContextThread',axis=1) \n",
        "train=train.drop('GlobalMemoryStatusEx',axis=1) \n",
        "train=train.drop('NtSuspendThread',axis=1) \n",
        "train=train.drop('RegOpenKeyExW',axis=1) \n",
        "train=train.drop('GetForegroundWindow',axis=1) \n",
        "train=train.drop('GetSystemInfo',axis=1) \n",
        "train=train.drop('NtFreeVirtualMemory',axis=1) \n",
        "train=train.drop('NtAllocateVirtualMemory',axis=1) \n",
        "train=train.drop('NtResumeThread',axis=1) \n",
        "train=train.drop('NtDuplicateObject',axis=1) \n",
        "train=train.drop('NtGetContextThread',axis=1) \n",
        "train=train.drop('NtCreateMutant',axis=1) \n",
        "train=train.drop('RegCloseKey',axis=1) \n",
        "train=train.drop('RegEnumKeyW',axis=1) \n",
        "\n",
        "\n",
        "\n",
        "\n",
        "\n",
        "\n"
      ],
      "execution_count": null,
      "outputs": []
    },
    {
      "cell_type": "code",
      "metadata": {
        "id": "YAM4AKRiR0JD"
      },
      "source": [
        "data = train.iloc[:,:-1]        # data에 [모든행,(모든행)~(뒤에서 1번째열)]을 저장\n",
        "target = train['ad_no']         # target에 ad_no열을 저장함\n",
        "train=train.drop('ad_no',axis=1) "
      ],
      "execution_count": null,
      "outputs": []
    },
    {
      "cell_type": "markdown",
      "metadata": {
        "id": "D6TCBgNYRUaI"
      },
      "source": [
        "--> train / test 데이터 분리"
      ]
    },
    {
      "cell_type": "code",
      "metadata": {
        "id": "1a_mG0EiRZR6"
      },
      "source": [
        "X_train = data                  # 변수선언\n",
        "Y_train = target                # 변수선언"
      ],
      "execution_count": null,
      "outputs": []
    },
    {
      "cell_type": "code",
      "metadata": {
        "id": "MDhi1P36Xrp0"
      },
      "source": [
        "\n",
        "# 언더샘플링을 통해 개채수를 줄임\n",
        "from imblearn.over_sampling import RandomOverSampler, SMOTE, BorderlineSMOTE, ADASYN \n",
        "from imblearn.under_sampling import RandomUnderSampler, NeighbourhoodCleaningRule, TomekLinks, OneSidedSelection, EditedNearestNeighbours, NeighbourhoodCleaningRule\n",
        "from collections import Counter\n",
        "\n",
        "ros = TomekLinks()                                                                                                                   # 모델 선언 ( 검색해서 논문에 설명!!! )\n",
        "X_train, Y_train = ros.fit_resample(X_train,Y_train)                                                                                    # X_train 과 Y_train을 모델에 학습시킴\n"
      ],
      "execution_count": null,
      "outputs": []
    },
    {
      "cell_type": "code",
      "metadata": {
        "id": "ayOQMy4WXtmE"
      },
      "source": [
        "\n",
        "# 오버샘플링을 통해 개체수를 맞춤\n",
        "from imblearn.over_sampling import RandomOverSampler, SMOTE, BorderlineSMOTE, ADASYN \n",
        "from imblearn.under_sampling import RandomUnderSampler, TomekLinks, OneSidedSelection\n",
        "from collections import Counter\n",
        "\n",
        "ros = SMOTE()                                                                                # 모델 선언 ( 검색해서 논문에 설명!!! )\n",
        "X_train, Y_train = ros.fit_resample(X_train,Y_train)                                          # X_train 과 Y_train을 모델에 학습시킴\n"
      ],
      "execution_count": null,
      "outputs": []
    },
    {
      "cell_type": "code",
      "metadata": {
        "colab": {
          "base_uri": "https://localhost:8080/"
        },
        "id": "oGvWatBXX58w",
        "outputId": "6127e293-5c0a-459e-b970-ed8362b6aa72"
      },
      "source": [
        "print(Counter(Y_train))                                     # 정상 / 악성의 늘어난 비율 확인"
      ],
      "execution_count": null,
      "outputs": [
        {
          "output_type": "stream",
          "name": "stdout",
          "text": [
            "Counter({1: 7499, 0: 7499})\n"
          ]
        }
      ]
    },
    {
      "cell_type": "markdown",
      "metadata": {
        "id": "bf-9kZalVQND"
      },
      "source": [
        "--> 머신러닝 돌리기"
      ]
    },
    {
      "cell_type": "code",
      "metadata": {
        "colab": {
          "base_uri": "https://localhost:8080/"
        },
        "id": "NfhhevemVTz6",
        "outputId": "0ef990c8-d1ee-4986-e8ff-78b646feec4c"
      },
      "source": [
        "from sklearn.model_selection import KFold\n",
        "from sklearn.model_selection import cross_val_score\n",
        "from sklearn.neighbors import KNeighborsClassifier\n",
        "from sklearn.linear_model import LogisticRegression\n",
        "from sklearn.tree import DecisionTreeClassifier\n",
        "from sklearn.ensemble import RandomForestClassifier\n",
        "from sklearn.naive_bayes import GaussianNB\n",
        "from sklearn.svm import SVC\n",
        "from sklearn.linear_model import LinearRegression\n",
        "from sklearn.cluster import KMeans\n",
        "from autosklearn.classification import AutoSklearnClassifier\n",
        "import numpy as np\n",
        "from sklearn.model_selection import cross_val_predict, cross_val_score\n",
        "from sklearn.metrics import confusion_matrix,classification_report,accuracy_score\n",
        "from sklearn.preprocessing import StandardScaler\n",
        "\n",
        "# 학습시킬 모델을 선정 (랜덤포레스트(max_depth를 7으로 설정함)) \n",
        "classifier = RandomForestClassifier(max_depth=7)\n",
        "\n",
        "classifier.fit(X_train, Y_train)\n"
      ],
      "execution_count": null,
      "outputs": [
        {
          "output_type": "execute_result",
          "data": {
            "text/plain": [
              "RandomForestClassifier(max_depth=7)"
            ]
          },
          "metadata": {},
          "execution_count": 333
        }
      ]
    },
    {
      "cell_type": "code",
      "metadata": {
        "id": "fe72ClZjbWSG",
        "colab": {
          "base_uri": "https://localhost:8080/"
        },
        "outputId": "f42dc9a6-70ea-4246-851a-dd65f95286dd"
      },
      "source": [
        "# 모델을 덤프시켜서 외부로 내보내기\n",
        "import joblib\n",
        "joblib.dump(classifier, 'saved_model(smote_77).pkl')\n"
      ],
      "execution_count": null,
      "outputs": [
        {
          "output_type": "execute_result",
          "data": {
            "text/plain": [
              "['saved_model(smote_77).pkl']"
            ]
          },
          "metadata": {},
          "execution_count": 334
        }
      ]
    },
    {
      "cell_type": "code",
      "metadata": {
        "id": "Y_RsDiPaj2dj",
        "colab": {
          "base_uri": "https://localhost:8080/",
          "height": 54
        },
        "outputId": "491c5bb4-fce1-418b-c3c5-0b57bb17f229"
      },
      "source": [
        "'''\n",
        "# 각각의 피쳐의 기여도를 출력하는 그래프를 봄\n",
        "col = list(map(str, X_train.columns))\n",
        "\n",
        "aaa = classifier.feature_importances_\n",
        "aaa = pd.Series(aaa,col[:])\n",
        "plt.figure(figsize=(10,10))\n",
        "\n",
        "aaa.plot(kind='bar',color='g') #'''"
      ],
      "execution_count": null,
      "outputs": [
        {
          "output_type": "execute_result",
          "data": {
            "text/plain": [
              "\"\\n# 각각의 피쳐의 기여도를 출력하는 그래프를 봄\\ncol = list(map(str, X_train.columns))\\n\\naaa = classifier.feature_importances_\\naaa = pd.Series(aaa,col[:])\\nplt.figure(figsize=(10,10))\\n\\naaa.plot(kind='bar',color='g') #\""
            ],
            "application/vnd.google.colaboratory.intrinsic+json": {
              "type": "string"
            }
          },
          "metadata": {},
          "execution_count": 335
        }
      ]
    },
    {
      "cell_type": "markdown",
      "metadata": {
        "id": "FCHT1p_IW9-c"
      },
      "source": [
        "ㅡㅡㅡㅡㅡㅡㅡㅡㅡㅡㅡㅡㅡㅡㅡㅡㅡㅡㅡㅡㅡㅡㅡㅡㅡㅡㅡㅡㅡㅡㅡㅡㅡㅡㅡㅡㅡㅡㅡㅡㅡㅡㅡㅡㅡㅡㅡㅡㅡㅡㅡㅡㅡㅡㅡㅡㅡㅡㅡㅡㅡㅡㅡㅡㅡㅡㅡㅡㅡㅡㅡㅡㅡㅡㅡㅡㅡㅡㅡㅡㅡㅡㅡㅡㅡㅡㅡㅡㅡㅡㅡㅡㅡㅡㅡㅡㅡㅡㅡㅡㅡㅡㅡㅡㅡㅡㅡㅡㅡㅡㅡㅡㅡㅡㅡㅡㅡㅡㅡㅡㅡㅡㅡㅡㅡㅡㅡㅡㅡㅡㅡㅡㅡㅡㅡㅡㅡㅡㅡㅡㅡㅡㅡㅡㅡㅡㅡㅡㅡㅡㅡㅡㅡㅡㅡㅡㅡㅡㅡㅡㅡㅡㅡㅡㅡㅡㅡㅡㅡㅡㅡㅡㅡㅡㅡㅡㅡㅡㅡㅡㅡㅡㅡㅡㅡㅡㅡㅡㅡ"
      ]
    },
    {
      "cell_type": "code",
      "metadata": {
        "id": "FlsOPKLKXBKc",
        "colab": {
          "base_uri": "https://localhost:8080/",
          "height": 275
        },
        "outputId": "31723e5b-a666-4ea3-e5f6-907ab0c1f8cf"
      },
      "source": [
        "import numpy as np\n",
        "import csv\n",
        "import seaborn as sns\n",
        "import matplotlib.pyplot as plt\n",
        "from collections import Counter\n",
        "import pandas as pd\n",
        "from sklearn import datasets\n",
        "\n",
        " \n",
        "test = pd.read_csv('/content/drive/MyDrive/AI기반 파워쉘 악성코드/merge(11.26)_test.csv', names=['uuid','CryptCreateHash', 'OpenSCManagerW', 'CoInitializeSecurity', 'NtQueryAttributesFile', 'NetUserGetLocalGroups', 'NtCreateSection', 'NtAllocateVirtualMemory', 'RegOpenKeyExA', 'CoCreateInstance', 'GetForegroundWindow', 'UuidCreate', 'ShellExecuteExW', 'NtCreateMutant', 'CryptHashData', 'GetVolumeNameForVolumeMountPointW', 'FindResourceA', 'SHGetSpecialFolderLocation', 'CryptEncrypt', 'RegCreateKeyExA', 'GetFileSize', 'RegEnumValueW', 'NtOpenMutant', 'timeGetTime', 'GetSystemWindowsDirectoryW', 'RegSetValueExW', 'NtSetContextThread', 'NtCreateThreadEx', 'RegQueryValueExW', 'NtQueueApcThread', 'FindResourceExW', 'RegQueryInfoKeyA', 'NtQuerySystemInformation', 'GetFileAttributesExW', 'NtEnumerateValueKey', 'GetFileVersionInfoW', 'GetSystemInfo', 'FindFirstFileExW', 'RegQueryValueExA', 'CoUninitialize', 'CryptAcquireContextW', 'RegEnumKeyW', 'NtQueryInformationFile', 'RegEnumKeyExA', 'LoadResource', 'NtDelayExecution', 'NtSetValueKey', 'FindResourceW', 'RegQueryInfoKeyW', 'SHGetFolderPathW', 'NtFreeVirtualMemory', 'LdrUnloadDll', 'LoadStringW', 'DeleteFileW', 'OleInitialize', 'GetUserNameW', 'NtOpenSection', 'LookupAccountSidW', 'NtCreateFile', 'GetTimeZoneInformation', 'NtQueryKey', 'OutputDebugStringA', 'GetFileVersionInfoExW', 'GetSystemTimeAsFileTime', 'GetSystemDirectoryW', 'NtUnmapViewOfSection', 'CreateProcessInternalW', 'SizeofResource', 'RegOpenKeyExW', 'NtResumeThread', 'NtOpenKey', 'DrawTextExW', 'NtReadFile', 'RtlAddVectoredContinueHandler', 'NtDuplicateObject', 'SetErrorMode', 'LookupPrivilegeValueW', 'NtSuspendThread', 'GetVolumePathNamesForVolumeNameW', 'NtMapViewOfSection', 'CryptExportKey', 'NtOpenProcess', 'MessageBoxTimeoutW', 'SearchPathW', 'NtTerminateProcess', 'GetUserNameExW', 'GetSystemMetrics', 'NetUserGetInfo', 'NtWriteFile', 'NtClose', 'GetFileInformationByHandleEx', 'GetFileVersionInfoSizeW', 'LdrLoadDll', 'NtQueryDirectoryFile', 'NtQueryValueKey', 'GetFileSizeEx', 'NtProtectVirtualMemory', 'OpenServiceW', 'CryptDecrypt', 'NtOpenThread', 'NtOpenKeyEx', 'RegEnumKeyExW', 'CoGetClassObject', 'GetKeyboardState', 'GetKeyState', 'IsDebuggerPresent', 'GetCursorPos', 'NtEnumerateKey', 'CreateThread', 'CoInitializeEx', 'NtDeviceIoControlFile', 'GetFileVersionInfoSizeExW', 'RegDeleteValueW', 'GetFileAttributesW', 'GlobalMemoryStatus', 'LdrGetDllHandle', 'RegCreateKeyExW', 'FindWindowW', 'GetNativeSystemInfo', 'RegCloseKey', 'CreateDirectoryW', 'GlobalMemoryStatusEx', 'DeviceIoControl', 'CryptAcquireContextA', 'SetEndOfFile', 'NtOpenFile', 'GetFileType', 'CreateActCtxW', 'SetUnhandledExceptionFilter', '__exception__', 'NtGetContextThread', 'SetFilePointer', 'LdrGetProcedureAddress', 'GetFileInformationByHandle','ad_no'])\n",
        "\n",
        "test.head(2)"
      ],
      "execution_count": null,
      "outputs": [
        {
          "output_type": "execute_result",
          "data": {
            "text/plain": [
              "                                        uuid  CryptCreateHash  OpenSCManagerW  \\\n",
              "0  48124240-f00a-4e66-b1db-d624204401f0.json              555               2   \n",
              "1  481d3965-4b62-4c3d-9722-19386bb20f92.json              555               2   \n",
              "\n",
              "   CoInitializeSecurity  NtQueryAttributesFile  NetUserGetLocalGroups  \\\n",
              "0                     1                     70                      1   \n",
              "1                     1                     70                      1   \n",
              "\n",
              "   NtCreateSection  NtAllocateVirtualMemory  RegOpenKeyExA  CoCreateInstance  \\\n",
              "0              166                      963             95                36   \n",
              "1              166                      954             95                36   \n",
              "\n",
              "   ...  NtOpenFile  GetFileType  CreateActCtxW  SetUnhandledExceptionFilter  \\\n",
              "0  ...          14            2              9                            3   \n",
              "1  ...          14            2              9                            3   \n",
              "\n",
              "   __exception__  NtGetContextThread  SetFilePointer  LdrGetProcedureAddress  \\\n",
              "0              0                   0             368                    1158   \n",
              "1              0                   0             368                    1160   \n",
              "\n",
              "   GetFileInformationByHandle  ad_no  \n",
              "0                           8      0  \n",
              "1                           8      0  \n",
              "\n",
              "[2 rows x 135 columns]"
            ],
            "text/html": [
              "\n",
              "  <div id=\"df-e57a7216-87de-40ee-b384-e827f1df9ee6\">\n",
              "    <div class=\"colab-df-container\">\n",
              "      <div>\n",
              "<style scoped>\n",
              "    .dataframe tbody tr th:only-of-type {\n",
              "        vertical-align: middle;\n",
              "    }\n",
              "\n",
              "    .dataframe tbody tr th {\n",
              "        vertical-align: top;\n",
              "    }\n",
              "\n",
              "    .dataframe thead th {\n",
              "        text-align: right;\n",
              "    }\n",
              "</style>\n",
              "<table border=\"1\" class=\"dataframe\">\n",
              "  <thead>\n",
              "    <tr style=\"text-align: right;\">\n",
              "      <th></th>\n",
              "      <th>uuid</th>\n",
              "      <th>CryptCreateHash</th>\n",
              "      <th>OpenSCManagerW</th>\n",
              "      <th>CoInitializeSecurity</th>\n",
              "      <th>NtQueryAttributesFile</th>\n",
              "      <th>NetUserGetLocalGroups</th>\n",
              "      <th>NtCreateSection</th>\n",
              "      <th>NtAllocateVirtualMemory</th>\n",
              "      <th>RegOpenKeyExA</th>\n",
              "      <th>CoCreateInstance</th>\n",
              "      <th>...</th>\n",
              "      <th>NtOpenFile</th>\n",
              "      <th>GetFileType</th>\n",
              "      <th>CreateActCtxW</th>\n",
              "      <th>SetUnhandledExceptionFilter</th>\n",
              "      <th>__exception__</th>\n",
              "      <th>NtGetContextThread</th>\n",
              "      <th>SetFilePointer</th>\n",
              "      <th>LdrGetProcedureAddress</th>\n",
              "      <th>GetFileInformationByHandle</th>\n",
              "      <th>ad_no</th>\n",
              "    </tr>\n",
              "  </thead>\n",
              "  <tbody>\n",
              "    <tr>\n",
              "      <th>0</th>\n",
              "      <td>48124240-f00a-4e66-b1db-d624204401f0.json</td>\n",
              "      <td>555</td>\n",
              "      <td>2</td>\n",
              "      <td>1</td>\n",
              "      <td>70</td>\n",
              "      <td>1</td>\n",
              "      <td>166</td>\n",
              "      <td>963</td>\n",
              "      <td>95</td>\n",
              "      <td>36</td>\n",
              "      <td>...</td>\n",
              "      <td>14</td>\n",
              "      <td>2</td>\n",
              "      <td>9</td>\n",
              "      <td>3</td>\n",
              "      <td>0</td>\n",
              "      <td>0</td>\n",
              "      <td>368</td>\n",
              "      <td>1158</td>\n",
              "      <td>8</td>\n",
              "      <td>0</td>\n",
              "    </tr>\n",
              "    <tr>\n",
              "      <th>1</th>\n",
              "      <td>481d3965-4b62-4c3d-9722-19386bb20f92.json</td>\n",
              "      <td>555</td>\n",
              "      <td>2</td>\n",
              "      <td>1</td>\n",
              "      <td>70</td>\n",
              "      <td>1</td>\n",
              "      <td>166</td>\n",
              "      <td>954</td>\n",
              "      <td>95</td>\n",
              "      <td>36</td>\n",
              "      <td>...</td>\n",
              "      <td>14</td>\n",
              "      <td>2</td>\n",
              "      <td>9</td>\n",
              "      <td>3</td>\n",
              "      <td>0</td>\n",
              "      <td>0</td>\n",
              "      <td>368</td>\n",
              "      <td>1160</td>\n",
              "      <td>8</td>\n",
              "      <td>0</td>\n",
              "    </tr>\n",
              "  </tbody>\n",
              "</table>\n",
              "<p>2 rows × 135 columns</p>\n",
              "</div>\n",
              "      <button class=\"colab-df-convert\" onclick=\"convertToInteractive('df-e57a7216-87de-40ee-b384-e827f1df9ee6')\"\n",
              "              title=\"Convert this dataframe to an interactive table.\"\n",
              "              style=\"display:none;\">\n",
              "        \n",
              "  <svg xmlns=\"http://www.w3.org/2000/svg\" height=\"24px\"viewBox=\"0 0 24 24\"\n",
              "       width=\"24px\">\n",
              "    <path d=\"M0 0h24v24H0V0z\" fill=\"none\"/>\n",
              "    <path d=\"M18.56 5.44l.94 2.06.94-2.06 2.06-.94-2.06-.94-.94-2.06-.94 2.06-2.06.94zm-11 1L8.5 8.5l.94-2.06 2.06-.94-2.06-.94L8.5 2.5l-.94 2.06-2.06.94zm10 10l.94 2.06.94-2.06 2.06-.94-2.06-.94-.94-2.06-.94 2.06-2.06.94z\"/><path d=\"M17.41 7.96l-1.37-1.37c-.4-.4-.92-.59-1.43-.59-.52 0-1.04.2-1.43.59L10.3 9.45l-7.72 7.72c-.78.78-.78 2.05 0 2.83L4 21.41c.39.39.9.59 1.41.59.51 0 1.02-.2 1.41-.59l7.78-7.78 2.81-2.81c.8-.78.8-2.07 0-2.86zM5.41 20L4 18.59l7.72-7.72 1.47 1.35L5.41 20z\"/>\n",
              "  </svg>\n",
              "      </button>\n",
              "      \n",
              "  <style>\n",
              "    .colab-df-container {\n",
              "      display:flex;\n",
              "      flex-wrap:wrap;\n",
              "      gap: 12px;\n",
              "    }\n",
              "\n",
              "    .colab-df-convert {\n",
              "      background-color: #E8F0FE;\n",
              "      border: none;\n",
              "      border-radius: 50%;\n",
              "      cursor: pointer;\n",
              "      display: none;\n",
              "      fill: #1967D2;\n",
              "      height: 32px;\n",
              "      padding: 0 0 0 0;\n",
              "      width: 32px;\n",
              "    }\n",
              "\n",
              "    .colab-df-convert:hover {\n",
              "      background-color: #E2EBFA;\n",
              "      box-shadow: 0px 1px 2px rgba(60, 64, 67, 0.3), 0px 1px 3px 1px rgba(60, 64, 67, 0.15);\n",
              "      fill: #174EA6;\n",
              "    }\n",
              "\n",
              "    [theme=dark] .colab-df-convert {\n",
              "      background-color: #3B4455;\n",
              "      fill: #D2E3FC;\n",
              "    }\n",
              "\n",
              "    [theme=dark] .colab-df-convert:hover {\n",
              "      background-color: #434B5C;\n",
              "      box-shadow: 0px 1px 3px 1px rgba(0, 0, 0, 0.15);\n",
              "      filter: drop-shadow(0px 1px 2px rgba(0, 0, 0, 0.3));\n",
              "      fill: #FFFFFF;\n",
              "    }\n",
              "  </style>\n",
              "\n",
              "      <script>\n",
              "        const buttonEl =\n",
              "          document.querySelector('#df-e57a7216-87de-40ee-b384-e827f1df9ee6 button.colab-df-convert');\n",
              "        buttonEl.style.display =\n",
              "          google.colab.kernel.accessAllowed ? 'block' : 'none';\n",
              "\n",
              "        async function convertToInteractive(key) {\n",
              "          const element = document.querySelector('#df-e57a7216-87de-40ee-b384-e827f1df9ee6');\n",
              "          const dataTable =\n",
              "            await google.colab.kernel.invokeFunction('convertToInteractive',\n",
              "                                                     [key], {});\n",
              "          if (!dataTable) return;\n",
              "\n",
              "          const docLinkHtml = 'Like what you see? Visit the ' +\n",
              "            '<a target=\"_blank\" href=https://colab.research.google.com/notebooks/data_table.ipynb>data table notebook</a>'\n",
              "            + ' to learn more about interactive tables.';\n",
              "          element.innerHTML = '';\n",
              "          dataTable['output_type'] = 'display_data';\n",
              "          await google.colab.output.renderOutput(dataTable, element);\n",
              "          const docLink = document.createElement('div');\n",
              "          docLink.innerHTML = docLinkHtml;\n",
              "          element.appendChild(docLink);\n",
              "        }\n",
              "      </script>\n",
              "    </div>\n",
              "  </div>\n",
              "  "
            ]
          },
          "metadata": {},
          "execution_count": 336
        }
      ]
    },
    {
      "cell_type": "code",
      "metadata": {
        "id": "6Jywg6vOXE76",
        "colab": {
          "base_uri": "https://localhost:8080/"
        },
        "outputId": "ebb0ca08-a03b-46cf-cc6a-c5358ccdcd15"
      },
      "source": [
        "print(Counter(test['ad_no']))"
      ],
      "execution_count": null,
      "outputs": [
        {
          "output_type": "stream",
          "name": "stdout",
          "text": [
            "Counter({0: 432, 1: 68})\n"
          ]
        }
      ]
    },
    {
      "cell_type": "code",
      "metadata": {
        "id": "1eKJ0IsGXF-T"
      },
      "source": [
        "X_test=test.drop('uuid',axis=1)\n",
        "X_test=X_test.drop('OpenSCManagerW',axis=1) \n",
        "X_test=X_test.drop('CoInitializeSecurity',axis=1) \n",
        "X_test=X_test.drop('NtQueryAttributesFile',axis=1) \n",
        "X_test=X_test.drop('NetUserGetLocalGroups',axis=1) \n",
        "X_test=X_test.drop('ShellExecuteExW',axis=1) \n",
        "X_test=X_test.drop('FindResourceA',axis=1) \n",
        "X_test=X_test.drop('SHGetSpecialFolderLocation',axis=1) \n",
        "X_test=X_test.drop('RegEnumValueW',axis=1) \n",
        "X_test=X_test.drop('NtOpenMutant',axis=1) \n",
        "X_test=X_test.drop('NtCreateThreadEx',axis=1) \n",
        "X_test=X_test.drop('RegQueryInfoKeyA',axis=1) \n",
        "X_test=X_test.drop('NtEnumerateValueKey',axis=1) \n",
        "X_test=X_test.drop('CoUninitialize',axis=1) \n",
        "X_test=X_test.drop('CryptAcquireContextW',axis=1) \n",
        "X_test=X_test.drop('NtQueryInformationFile',axis=1) \n",
        "X_test=X_test.drop('NtSetValueKey',axis=1) \n",
        "X_test=X_test.drop('SHGetFolderPathW',axis=1) \n",
        "X_test=X_test.drop('DeleteFileW',axis=1) \n",
        "X_test=X_test.drop('OleInitialize',axis=1) \n",
        "X_test=X_test.drop('GetFileVersionInfoExW',axis=1) \n",
        "X_test=X_test.drop('CreateProcessInternalW',axis=1) \n",
        "X_test=X_test.drop('NtReadFile',axis=1) \n",
        "X_test=X_test.drop('RtlAddVectoredContinueHandler',axis=1) \n",
        "X_test=X_test.drop('LookupPrivilegeValueW',axis=1) \n",
        "X_test=X_test.drop('GetVolumePathNamesForVolumeNameW',axis=1) \n",
        "X_test=X_test.drop('NtOpenProcess',axis=1) \n",
        "X_test=X_test.drop('MessageBoxTimeoutW',axis=1) \n",
        "X_test=X_test.drop('NtTerminateProcess',axis=1) \n",
        "X_test=X_test.drop('GetUserNameExW',axis=1) \n",
        "X_test=X_test.drop('NetUserGetInfo',axis=1) \n",
        "X_test=X_test.drop('GetFileInformationByHandleEx',axis=1) \n",
        "X_test=X_test.drop('NtQueryValueKey',axis=1) \n",
        "X_test=X_test.drop('GetFileSizeEx',axis=1) \n",
        "X_test=X_test.drop('CryptDecrypt',axis=1) \n",
        "X_test=X_test.drop('NtOpenKeyEx',axis=1) \n",
        "X_test=X_test.drop('CoGetClassObject',axis=1) \n",
        "X_test=X_test.drop('IsDebuggerPresent',axis=1) \n",
        "X_test=X_test.drop('NtEnumerateKey',axis=1) \n",
        "X_test=X_test.drop('NtDeviceIoControlFile',axis=1) \n",
        "X_test=X_test.drop('GetFileVersionInfoSizeExW',axis=1) \n",
        "X_test=X_test.drop('RegDeleteValueW',axis=1) \n",
        "X_test=X_test.drop('GlobalMemoryStatus',axis=1) \n",
        "X_test=X_test.drop('GetNativeSystemInfo',axis=1) \n",
        "X_test=X_test.drop('CreateDirectoryW',axis=1) \n",
        "X_test=X_test.drop('CryptAcquireContextA',axis=1) \n",
        "X_test=X_test.drop('NtOpenFile',axis=1) \n",
        "X_test=X_test.drop('SetUnhandledExceptionFilter',axis=1) \n",
        "X_test=X_test.drop('GetVolumeNameForVolumeMountPointW',axis=1) \n",
        "X_test=X_test.drop('GetSystemWindowsDirectoryW',axis=1) \n",
        "X_test=X_test.drop('GetUserNameW',axis=1) \n",
        "X_test=X_test.drop('SearchPathW',axis=1) \n",
        "X_test=X_test.drop('NtOpenThread',axis=1) \n",
        "X_test=X_test.drop('GetFileType',axis=1) \n",
        "X_test=X_test.drop('CreateActCtxW',axis=1) \n",
        "X_test=X_test.drop('RegCreateKeyExA',axis=1) \n",
        "X_test=X_test.drop('GetFileSize',axis=1) \n",
        "X_test=X_test.drop('RegSetValueExW',axis=1) \n",
        "X_test=X_test.drop('FindResourceExW',axis=1) \n",
        "X_test=X_test.drop('FindFirstFileExW',axis=1) \n",
        "X_test=X_test.drop('RegQueryInfoKeyW',axis=1) \n",
        "X_test=X_test.drop('LookupAccountSidW',axis=1) \n",
        "X_test=X_test.drop('GetTimeZoneInformation',axis=1) \n",
        "X_test=X_test.drop('NtQueryKey',axis=1) \n",
        "X_test=X_test.drop('OutputDebugStringA',axis=1) \n",
        "X_test=X_test.drop('NtOpenKey',axis=1) \n",
        "X_test=X_test.drop('GetFileVersionInfoSizeW',axis=1) \n",
        "X_test=X_test.drop('LdrLoadDll',axis=1) \n",
        "X_test=X_test.drop('NtOpenSection',axis=1) \n",
        "X_test=X_test.drop('NtQueryDirectoryFile',axis=1) \n",
        "X_test=X_test.drop('NtProtectVirtualMemory',axis=1) \n",
        "X_test=X_test.drop('RegEnumKeyExW',axis=1) \n",
        "X_test=X_test.drop('CoInitializeEx',axis=1) \n",
        "X_test=X_test.drop('RegCreateKeyExW',axis=1) \n",
        "X_test=X_test.drop('FindWindowW',axis=1) \n",
        "X_test=X_test.drop('NtCreateSection',axis=1) \n",
        "X_test=X_test.drop('NtQueueApcThread',axis=1) \n",
        "X_test=X_test.drop('GetFileVersionInfoW',axis=1) \n",
        "X_test=X_test.drop('NtCreateFile',axis=1) \n",
        "X_test=X_test.drop('NtUnmapViewOfSection',axis=1) \n",
        "X_test=X_test.drop('CryptExportKey',axis=1) \n",
        "X_test=X_test.drop('GetFileAttributesW',axis=1) \n",
        "X_test=X_test.drop('OpenServiceW',axis=1) \n",
        "X_test=X_test.drop('NtMapViewOfSection',axis=1) \n",
        "X_test=X_test.drop('LoadStringW',axis=1) \n",
        "X_test=X_test.drop('CryptEncrypt',axis=1) \n",
        "X_test=X_test.drop('LdrUnloadDll',axis=1) \n",
        "X_test=X_test.drop('CreateThread',axis=1) \n",
        "X_test=X_test.drop('GetFileAttributesExW',axis=1) \n",
        "X_test=X_test.drop('GetSystemDirectoryW',axis=1) \n",
        "X_test=X_test.drop('CryptHashData',axis=1) \n",
        "X_test=X_test.drop('GetFileInformationByHandle',axis=1) \n",
        "\n",
        "\n",
        "X_test=X_test.drop('SetEndOfFile',axis=1) \n",
        "X_test=X_test.drop('NtWriteFile',axis=1) \n",
        "X_test=X_test.drop('SetErrorMode',axis=1) \n",
        "X_test=X_test.drop('RegEnumKeyExA',axis=1) \n",
        "X_test=X_test.drop('RegQueryValueExA',axis=1) \n",
        "X_test=X_test.drop('UuidCreate',axis=1) \n",
        "X_test=X_test.drop('CoCreateInstance',axis=1) \n",
        "X_test=X_test.drop('RegOpenKeyExA',axis=1) \n",
        "X_test=X_test.drop('CryptCreateHash',axis=1) \n",
        "X_test=X_test.drop('SetFilePointer',axis=1) \n",
        "X_test=X_test.drop('__exception__',axis=1) \n",
        "X_test=X_test.drop('DeviceIoControl',axis=1) \n",
        "X_test=X_test.drop('GetKeyState',axis=1) \n",
        "X_test=X_test.drop('FindResourceW',axis=1) \n",
        "X_test=X_test.drop('LoadResource',axis=1) \n",
        "X_test=X_test.drop('RegQueryValueExW',axis=1) \n",
        "X_test=X_test.drop('NtSetContextThread',axis=1) \n",
        "X_test=X_test.drop('GlobalMemoryStatusEx',axis=1) \n",
        "X_test=X_test.drop('NtSuspendThread',axis=1) \n",
        "X_test=X_test.drop('RegOpenKeyExW',axis=1) \n",
        "X_test=X_test.drop('GetForegroundWindow',axis=1) \n",
        "X_test=X_test.drop('GetSystemInfo',axis=1) \n",
        "X_test=X_test.drop('NtFreeVirtualMemory',axis=1) \n",
        "\n",
        "X_test=X_test.drop('NtAllocateVirtualMemory',axis=1) \n",
        "X_test=X_test.drop('NtResumeThread',axis=1) \n",
        "X_test=X_test.drop('NtDuplicateObject',axis=1) \n",
        "X_test=X_test.drop('NtGetContextThread',axis=1) \n",
        "X_test=X_test.drop('NtCreateMutant',axis=1) \n",
        "X_test=X_test.drop('RegCloseKey',axis=1) \n",
        "X_test=X_test.drop('RegEnumKeyW',axis=1) \n",
        "\n",
        "\n"
      ],
      "execution_count": null,
      "outputs": []
    },
    {
      "cell_type": "code",
      "metadata": {
        "id": "WT2RZrm2XG1m"
      },
      "source": [
        "ccc = X_test.iloc[:,:-1]    # 테스트할 피쳐를 ccc에 저장"
      ],
      "execution_count": null,
      "outputs": []
    },
    {
      "cell_type": "code",
      "metadata": {
        "id": "aH6Ym1LsXIyc"
      },
      "source": [
        "# 이전에 저장시킨 모델을 불러옴\n",
        "import joblib\n",
        "model = joblib.load('saved_model(smote_77).pkl')"
      ],
      "execution_count": null,
      "outputs": []
    },
    {
      "cell_type": "code",
      "metadata": {
        "id": "Turex7YsXKDT",
        "colab": {
          "base_uri": "https://localhost:8080/"
        },
        "outputId": "813140cf-1f82-4aca-ab79-8b6c9436af26"
      },
      "source": [
        "\n",
        "# 불러온 모델로 예측값을 함 \n",
        "prediction = model.predict(ccc)\n",
        "print(prediction)"
      ],
      "execution_count": null,
      "outputs": [
        {
          "output_type": "stream",
          "name": "stdout",
          "text": [
            "[0 0 0 0 0 0 0 0 0 0 0 0 0 0 0 0 0 0 0 0 1 0 1 0 0 1 1 0 0 0 0 0 0 0 0 0 0\n",
            " 0 0 0 0 0 0 0 0 1 0 0 0 0 0 0 0 0 0 0 0 0 0 0 0 0 1 1 0 0 0 0 0 0 0 0 0 0\n",
            " 0 0 0 0 0 0 0 0 0 0 0 0 0 0 0 0 0 0 0 0 1 0 0 0 0 0 0 0 0 0 0 0 0 0 1 0 0\n",
            " 0 0 0 0 0 0 0 0 0 0 0 0 0 1 0 1 1 0 0 1 1 0 0 1 0 0 0 0 0 0 0 0 0 0 0 1 1\n",
            " 0 1 1 1 0 0 0 0 0 0 0 0 1 1 0 0 0 0 0 0 0 0 0 0 0 0 0 0 0 0 0 0 0 0 1 0 0\n",
            " 0 0 0 0 0 0 0 0 0 0 0 0 0 0 0 0 0 1 0 0 0 0 0 0 0 0 0 0 0 0 0 0 0 1 0 0 0\n",
            " 0 0 0 0 0 0 0 1 0 0 0 0 0 0 0 1 0 0 1 0 0 0 0 0 0 0 0 0 0 1 0 0 0 0 0 0 0\n",
            " 1 0 0 0 1 0 0 1 0 0 0 0 0 0 0 0 0 0 0 0 0 0 0 0 0 0 0 0 0 0 0 0 0 0 1 0 0\n",
            " 0 0 0 1 0 0 0 0 0 1 1 0 0 0 0 0 0 0 0 0 0 0 0 0 0 0 0 0 0 0 1 0 0 0 0 0 0\n",
            " 0 1 0 0 0 0 1 0 1 0 0 0 1 0 1 0 1 0 0 1 0 0 0 0 0 0 0 0 0 0 0 0 0 0 0 0 0\n",
            " 0 0 0 0 0 0 0 0 0 0 0 0 0 1 0 1 0 0 0 0 0 0 0 0 0 0 1 0 0 0 0 0 1 0 0 0 0\n",
            " 0 0 1 0 0 0 0 0 0 0 1 0 0 0 0 1 0 0 0 0 0 0 0 0 0 0 0 0 0 0 0 0 0 1 0 0 0\n",
            " 0 0 0 0 0 1 0 0 0 1 0 0 0 0 0 0 1 0 0 0 0 0 0 0 0 0 0 0 0 0 0 0 0 0 0 0 0\n",
            " 0 0 0 0 0 0 0 0 0 0 0 0 0 0 1 0 0 0 0]\n"
          ]
        }
      ]
    },
    {
      "cell_type": "code",
      "metadata": {
        "id": "NBIM_ZcqLozg"
      },
      "source": [
        "from sklearn.model_selection import train_test_split\n",
        "from sklearn.metrics import accuracy_score, precision_score, recall_score, roc_auc_score\n",
        "from sklearn.metrics import f1_score, confusion_matrix, precision_recall_curve, roc_curve\n",
        "from sklearn.preprocessing import StandardScaler, Binarizer\n",
        "from sklearn.linear_model import LogisticRegression\n",
        "\n",
        "def get_clf_eval(y_test, y_pred):\n",
        "    confusion = confusion_matrix(y_test, y_pred)\n",
        "    accuracy = accuracy_score(y_test, y_pred)\n",
        "    precision = precision_score(y_test, y_pred)\n",
        "    recall = recall_score(y_test, y_pred)\n",
        "    F1 = f1_score(y_test, y_pred)\n",
        "    AUC = roc_auc_score(y_test, y_pred)\n",
        "    \n",
        "    print('오차행렬:\\n', confusion)\n",
        "    print('\\n정확도: {:.4f}'.format(accuracy))\n",
        "    print('정밀도: {:.4f}'.format(precision))\n",
        "    print('재현율: {:.4f}'.format(recall))\n",
        "    print('F1: {:.4f}'.format(F1))\n",
        "    print('AUC: {:.4f}'.format(AUC))"
      ],
      "execution_count": null,
      "outputs": []
    },
    {
      "cell_type": "code",
      "metadata": {
        "id": "zi9qthCeXMj0",
        "colab": {
          "base_uri": "https://localhost:8080/"
        },
        "outputId": "705fe2ca-0e0f-4613-d10a-b3e1896ca5fe"
      },
      "source": [
        "from sklearn.metrics import classification_report\n",
        "\n",
        "# 비교할값을 지정\n",
        "y_true = test['ad_no']\n",
        "\n",
        "# 예측값과 정답을 비교\n",
        "print(classification_report(y_true, prediction, target_names=['class 0', 'class 1']))"
      ],
      "execution_count": null,
      "outputs": [
        {
          "output_type": "stream",
          "name": "stdout",
          "text": [
            "              precision    recall  f1-score   support\n",
            "\n",
            "     class 0       0.96      0.98      0.97       432\n",
            "     class 1       0.88      0.72      0.79        68\n",
            "\n",
            "    accuracy                           0.95       500\n",
            "   macro avg       0.92      0.85      0.88       500\n",
            "weighted avg       0.95      0.95      0.95       500\n",
            "\n"
          ]
        }
      ]
    },
    {
      "cell_type": "code",
      "metadata": {
        "id": "3oS7PhMcevm5",
        "colab": {
          "base_uri": "https://localhost:8080/"
        },
        "outputId": "a2386355-c199-4cfc-bb38-2f88820c5478"
      },
      "source": [
        "get_clf_eval(y_true, prediction)"
      ],
      "execution_count": null,
      "outputs": [
        {
          "output_type": "stream",
          "name": "stdout",
          "text": [
            "오차행렬:\n",
            " [[425   7]\n",
            " [ 19  49]]\n",
            "\n",
            "정확도: 0.9480\n",
            "정밀도: 0.8750\n",
            "재현율: 0.7206\n",
            "F1: 0.7903\n",
            "AUC: 0.8522\n"
          ]
        }
      ]
    }
  ]
}